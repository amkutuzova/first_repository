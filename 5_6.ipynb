{
  "nbformat": 4,
  "nbformat_minor": 0,
  "metadata": {
    "colab": {
      "provenance": [],
      "authorship_tag": "ABX9TyPRRK2/1vt3GUn8rB+7PO9I",
      "include_colab_link": true
    },
    "kernelspec": {
      "name": "python3",
      "display_name": "Python 3"
    },
    "language_info": {
      "name": "python"
    }
  },
  "cells": [
    {
      "cell_type": "markdown",
      "metadata": {
        "id": "view-in-github",
        "colab_type": "text"
      },
      "source": [
        "<a href=\"https://colab.research.google.com/github/amkutuzova/first_repository/blob/main/5_6.ipynb\" target=\"_parent\"><img src=\"https://colab.research.google.com/assets/colab-badge.svg\" alt=\"Open In Colab\"/></a>"
      ]
    },
    {
      "cell_type": "code",
      "execution_count": null,
      "metadata": {
        "id": "T0ucEyb1U4Y1"
      },
      "outputs": [],
      "source": [
        "import random\n",
        "import time\n",
        "def game():\n",
        "    t=3\n",
        "    while True:\n",
        "      x=random.randint(1,100)\n",
        "      y=random.randint(1,100)\n",
        "      right=x+y\n",
        "      print (f'Новый пример: {x}+{y}?')\n",
        "      answer=int(input())\n",
        "      if answer==right:\n",
        "        return 'Поздравляю! Ваш ответ правильный'\n",
        "      else:\n",
        "        print (f'Неверно! Штрафная пауза: {t} секунды')\n",
        "        time.sleep(t)\n",
        "        t=t+1"
      ]
    }
  ]
}